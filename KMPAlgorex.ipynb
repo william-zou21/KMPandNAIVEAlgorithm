{
 "cells": [
  {
   "cell_type": "markdown",
   "metadata": {},
   "source": [
    "KMP Algorithm and Naive Algorithm Introduction"
   ]
  },
  {
   "cell_type": "markdown",
   "metadata": {},
   "source": [
    "What is the KMP Algorithm? \n",
    "The KMP (Knuth-Morris-Pratt) Algorithm is a string-searching algorithm that discovers a set pattern in a sequencing of strings. \n",
    "\n",
    "For complex pattern in large strings, KMP algo is effective compared to the naive algorithm"
   ]
  },
  {
   "cell_type": "markdown",
   "metadata": {},
   "source": [
    "The naive algorithm (also known as the BF algorithm) is a matching algorithm that matches the text sequence with the pattern bit by bit from the beginning (in py, the 0 of the list). If the matching fails, the string is shifted to the right by one bit and moved from the beginning. "
   ]
  },
  {
   "cell_type": "markdown",
   "metadata": {},
   "source": [
    "The difference\n",
    "Naive tests the pattern up agaisnt the sequence in order of the list and if the test fails, it starts over again\n",
    "KMP finds and observes when a mismatch occurs \n",
    "Simple Terms - \n",
    "Naive doesn't remember when a match is incorrect, KMP remembers. "
   ]
  },
  {
   "cell_type": "markdown",
   "metadata": {},
   "source": [
    "KMP > Naive In the case of a sequence of a string that is long and complex, it is hard and time consuming using the naive algorithm. \n",
    "\n",
    "\n"
   ]
  },
  {
   "cell_type": "code",
   "execution_count": 1,
   "metadata": {},
   "outputs": [],
   "source": [
    "# Example of where Naive would be effective\n",
    "#Say we have a sequence we need to find a pattern in \n",
    "\n",
    "a = ['a', 'b', 'c', 'd', 'x', 'y', 'z']\n",
    "pattern = ['d', 'x', 'y']"
   ]
  },
  {
   "cell_type": "code",
   "execution_count": 7,
   "metadata": {},
   "outputs": [],
   "source": [
    "#the pattern (naive) would look to see if a matches with d, and it doesn't so it moves the sequence\n",
    "#over by 1, and looks if b matches with d. Once it finds d that matches with d\n",
    "# it move 1 over in the sequence with the pattern and checks the pattern \n",
    "if a[0] == pattern[0]:\n",
    "    flag = True\n",
    "    while flag:\n",
    "        if a[1] == pattern[1]:\n",
    "            ...\n",
    "        else: \n",
    "            ...\n",
    "elif a[1] == pattern[0]:\n",
    "    flag = True\n",
    "    while flag:\n",
    "        if a[2] == pattern[1]:\n",
    "            ...\n",
    "elif a[2] == pattern[0]:\n",
    "    flag = True\n",
    "    while flag:\n",
    "        if a[3] == pattern[1]:\n",
    "            ...\n",
    "            \n",
    "#Here's a sample code to use the naive algorithm \n",
    "#A more code effective way is to create a def function(): to solve"
   ]
  },
  {
   "cell_type": "code",
   "execution_count": 8,
   "metadata": {},
   "outputs": [],
   "source": [
    "#A more effective way is to create a def function(): to solve\n",
    "def naive(sequence, pattern):\n",
    "    #Set two correspoding variables to each list\n",
    "    m = len(pattern)\n",
    "    n = len(sequence)\n",
    "    \n",
    "    for iterate in range(m - n + 1):\n",
    "        j = 0 #Set j as a placeholder variable\n",
    "        while (j < m):\n",
    "            if (sequence[iterate + j] != pattern[j]):\n",
    "                break #reverts back to beginning if pattern fails\n",
    "            j += 1\n",
    "            \n",
    "            if (j == m):\n",
    "                print(\"Pattern found at index \", i)\n",
    "                \n",
    "if __name__ == '__main__':\n",
    "    sequence = 'ABCDXYZ'\n",
    "    pattern = 'DXY'\n",
    "    naive(sequence, pattern)"
   ]
  },
  {
   "cell_type": "markdown",
   "metadata": {},
   "source": [
    "Next, let's take a look at how to construct a KMP algorithm. We read the KMP algorthim the same way as a Naive from left to right and the first test of pattern vs. sequence will be the same.\n",
    "\n",
    "The biggest difference between the two and the strength of the KMP is the ability to remember which text in the sequence is not applicable to run the whole pattern agaisnt\n",
    "\n",
    "For example: \n",
    "    \n",
    "       sequence =  A B A C A D A E\n",
    "       pattern  =  A C A D\n",
    "       we would intially test A to A and B to C and say B != C (Stay with me)\n",
    "       \n",
    "       Next - instead of moving over 1 to B, we would know that the pattern starts with A\n",
    "       So, we would shift to the next A in the sequence \n",
    "       \n",
    "       so \n",
    "       move #2-\n",
    "       \n",
    "       sequence = A B A C A D A E\n",
    "       pattern =      A C A D\n",
    "       And now we have our solution without having to run a unecessary test \n",
    "       \n",
    "       "
   ]
  },
  {
   "cell_type": "markdown",
   "metadata": {},
   "source": [
    "In this example, we would see that we saved ourselves one step in the process, but now imagine a problem with 1 million letters in the sequence and a pattern that is 1000 characters long. \n",
    "\n",
    "The movement of skipping over 2 letters would have a huge effect -\n",
    "\n",
    "Say we have 6 letters (random) in a list that has a length of 1 million. Say the pattern starts with a BA, using the KMP we could test every sub-pattern in the sequence that starts with BA. This cuts out 4/6 letters which could be in any random order. So BA is 2/6 possible letters, so 6 total could result in 36 different combinations of the first 2 letters of the patten and now we focus on 2/36 which is 1/18. This cuts out ~ 950,000 indivual steps that the naive algorthim does! Think about how much memory this saves. \n",
    "\n",
    "\n",
    "\n",
    "So...now we save memory and it is faster to run the program (as programmers, we always want the most efficent and effective route).\n",
    "\n"
   ]
  },
  {
   "cell_type": "markdown",
   "metadata": {},
   "source": [
    "Now let's code the KMP algorithm"
   ]
  },
  {
   "cell_type": "code",
   "execution_count": 16,
   "metadata": {},
   "outputs": [
    {
     "name": "stdout",
     "output_type": "stream",
     "text": [
      "Found pattern at index 8\n"
     ]
    }
   ],
   "source": [
    "#create a function\n",
    "\n",
    "def Array(pattern, m, lps):\n",
    "    len = 0\n",
    "    lps[0] #always set at 0\n",
    "    i = 0\n",
    "    while i < m:\n",
    "        if pattern[i] == pattern[len]:\n",
    "            len += 1\n",
    "            lps[i]\n",
    "            i += 1\n",
    "        else:\n",
    "            if len != 0:\n",
    "                len = lps[len-1]\n",
    "            else:\n",
    "                lps[i]\n",
    "                i += 1\n",
    "\n",
    "\n",
    "def KMPSearch(pattern, text):\n",
    "    m = len(pattern)\n",
    "    n = len(text)\n",
    "    \n",
    "    lps = [0]*m #create a longest prefix suffix for the value\n",
    "    j = 0 #index the pattern\n",
    "    \n",
    "    Array(pattern, m, lps)\n",
    "    i = 0\n",
    "    while i < n:\n",
    "        if pattern[j] == text[i]:\n",
    "            i += 1\n",
    "            j += 1\n",
    "        if j == m:\n",
    "            print('Found pattern at index ' + str(i-j))\n",
    "            j = lps[j-1]\n",
    "        elif i < n and pattern[j] != text[i]:\n",
    "            if j != 0:\n",
    "                j = lps[j-1]\n",
    "            else:\n",
    "                i += 1\n",
    "            \n",
    "    \n",
    "                    \n",
    "text = 'ABABABABDADABDA'\n",
    "pattern = 'DAD'\n",
    "KMPSearch(pattern, text)"
   ]
  }
 ],
 "metadata": {
  "kernelspec": {
   "display_name": "Python 3",
   "language": "python",
   "name": "python3"
  },
  "language_info": {
   "codemirror_mode": {
    "name": "ipython",
    "version": 3
   },
   "file_extension": ".py",
   "mimetype": "text/x-python",
   "name": "python",
   "nbconvert_exporter": "python",
   "pygments_lexer": "ipython3",
   "version": "3.8.3"
  }
 },
 "nbformat": 4,
 "nbformat_minor": 4
}
